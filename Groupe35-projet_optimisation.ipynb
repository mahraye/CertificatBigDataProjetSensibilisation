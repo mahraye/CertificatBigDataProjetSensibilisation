{
 "cells": [
  {
   "cell_type": "markdown",
   "metadata": {},
   "source": [
    "# Développement d'un algorithme en Spark"
   ]
  },
  {
   "cell_type": "markdown",
   "metadata": {},
   "source": [
    "# Objectif du Notebook\n",
    "Il s'agit de développer en Spark une méthode de gradient, dans le but de résoudre un problème de filtrage collaboratif, et de la comparer avec une méthode de la librairie MLIB. Ce Notebook a pour but le développement et la validation de l'approche, avant intégration et exploitation dans le cadre de l'infrastructure développée dans le projet. Pour information, de nombreuses versions de ce problème existent sur le web."
   ]
  },
  {
   "cell_type": "markdown",
   "metadata": {},
   "source": [
    "# Position du problème\n",
    "Nous avons à notre disposition un RDD \"ratings\" du type (userID, movieID, rating). Les données sont fournies par le fichier `ratings.dat`, stockées  au format ci-joint :\n",
    "```\n",
    "UserID::MovieID::Rating::Timestamp\n",
    "```\n",
    "\n",
    "Ce RDD peut être stocké dans une matrice $R$ où l'on trouve \"rating\" à l'intersection de la ligne \"userID\" et de la colonne \"movieID\".\n",
    "Si la matrice $R$ est de taille $m \\times  n$, nous cherchons $P \\in R^{m,k}$ et $Q \\in R^{n,k}$ telles que $R \\approx \\hat{R} = PQ^T$.\n",
    "Pour cela on considère le problème\n",
    "$$ \\min_{P,Q} \\sum_{i,j : r_{ij} \\text{existe}}  \\ell_{i,j}(R,P,Q), $$\n",
    "où\n",
    "$$  \\ell_{i,j}(R,P,Q)= \\left(r_{ij} - q_{j}^{\\top}p_{i}\\right)^2 + \\lambda(|| p_{i} ||^{2}_2 + || q_{j} ||^2_2 )  $$ et $(p_i)_{1\\leq i\\leq m}$ et $(q_j)_{1\\leq j\\leq n}$ sont les lignes des matrices $P$ et $Q$ respectivement. Le paramètre $\\lambda\\geq 0$ est un paramètre de régularisation.\n",
    "\n",
    "Le problème que nous résolvons ici est un problème dit de \"filtrage collaboratif\", qui permet d'apporter une solution possible du  problème Netflix. Les données sont issues de la base de données  \"The MoviLens Datasets\" :\n",
    "\n",
    "F. Maxwell Harper and Joseph A. Konstan. 2015. The MovieLens Datasets: History and Context. ACM Transactions on Interactive Intelligent Systems (TiiS) 5, 4: 19:1–19:19\n"
   ]
  },
  {
   "cell_type": "code",
   "execution_count": 4,
   "metadata": {},
   "outputs": [],
   "source": [
    "# Librairies\n",
    "import numpy as np\n",
    "from scipy import sparse\n",
    "\n",
    "# Environnement Spark \n",
    "from pyspark import SparkContext, SparkConf\n",
    "from pyspark.sql import SparkSession\n",
    "\n",
    "# A modifier/commenter selon votre configuration.\n",
    "import os\n",
    "#os.environ['PYSPARK_PYTHON'] = '/Users/abdelmahraye/anaconda3/bin/python'\n",
    "os.environ['PYSPARK_PYTHON'] = '/home/ubuntu/.conda/envs/conda-env/bin/python'\n",
    "\n",
    "conf = SparkConf()\n",
    "conf.setMaster(\"local[*]\")\n",
    "conf.setAppName(\"Matrix Factorization\")\n",
    "sc = SparkContext(conf = conf)\n",
    "\n"
   ]
  },
  {
   "cell_type": "markdown",
   "metadata": {},
   "source": [
    "#### Création du RDD et premières statistiques sur le jeu de données."
   ]
  },
  {
   "cell_type": "code",
   "execution_count": 5,
   "metadata": {},
   "outputs": [
    {
     "name": "stdout",
     "output_type": "stream",
     "text": [
      "We have 1000209 ratings from 6040 users on 3706 movies.\n",
      "\n",
      "We have 6040 users, 3952 movies and the rating matrix has 4.190221 percent of non-zero value.\n",
      "\n"
     ]
    }
   ],
   "source": [
    "# Répertoire contenant le jeu de données\n",
    "movieLensHomeDir=\"data/\"\n",
    "\n",
    "# ratings est un RDD du type (userID, movieID, rating)\n",
    "def parseRating(line):\n",
    "    fields = line.split('::')\n",
    "    return int(fields[0]), int(fields[1]), float(fields[2])\n",
    "\n",
    "ratingsRDD = sc.textFile(movieLensHomeDir + \"ratings.dat\").map(parseRating).setName(\"ratings\").cache()\n",
    "\n",
    "# Calcul du nombre de ratings\n",
    "numRatings = ratingsRDD.count()\n",
    "# Calcul du nombre d'utilisateurs distincts\n",
    "numUsers = ratingsRDD.map(lambda r: r[0]).distinct().count()\n",
    "# Calcul du nombre de films distincts\n",
    "numMovies = ratingsRDD.map(lambda r: r[1]).distinct().count()\n",
    "print(\"We have %d ratings from %d users on %d movies.\\n\" % (numRatings, numUsers, numMovies))\n",
    "\n",
    "# Dimensions de la matrice R\n",
    "M = ratingsRDD.map(lambda r: r[0]).max()\n",
    "N = ratingsRDD.map(lambda r: r[1]).max()\n",
    "matrixSparsity = float(numRatings)/float(M*N)\n",
    "print(\"We have %d users, %d movies and the rating matrix has %f percent of non-zero value.\\n\" % (M, N, 100*matrixSparsity))"
   ]
  },
  {
   "cell_type": "markdown",
   "metadata": {},
   "source": [
    "Nous allons utiliser la routine ALS.train() de la librairie  [MLLib](http://spark.apache.org/docs/latest/ml-guide.html) et en évaluer la performance par un calcul de \" Mean Squared Error\" du  rating de prédiction.\n",
    "\n",
    "__Question 1__\n",
    "\n",
    "> Commenter les lignes de code suivantes en vous inspirant du code python http://spark.apache.org/docs/latest/mllib-collaborative-filtering.html#collaborative-filtering\n",
    "\n",
    "On utilise la routine ALS.train() pour implémenter notre modèle de descente de gradientafin de prévoir les notes. Elle prend en argument certains paramètres (le rdd, le nombre d'itérations de la descente de gradient, le paramètre de régularisation, le nombre de caractéristiques du modèle (rang de la matrice)). C'est l'étape d'entrainement. \n",
    "Le modèle est ensuite évalué sur le jeu de données complet : on prédit les notes des films pour chaque utilisateurs ayant notés ces films. Ensuite on joint la prédiction aux notes du RDD initial. On calcule enfin un score (MSE) pour évaluer l'efficacité du modèle (écart entre les notes prédites et les notes effectives).\n"
   ]
  },
  {
   "cell_type": "code",
   "execution_count": 7,
   "metadata": {},
   "outputs": [
    {
     "name": "stdout",
     "output_type": "stream",
     "text": [
      "Mean Squared Error = 0.5836596555987201\n"
     ]
    }
   ],
   "source": [
    "from pyspark.mllib.recommendation import ALS, MatrixFactorizationModel, Rating\n",
    "import numpy\n",
    "# Construction du modèle de recommendations depuis l'approche \"Alternating Least Squares\"\n",
    "rank = 10\n",
    "numIterations = 10\n",
    "\n",
    "# Paramètres de la méthode Alternating Least Squares (ALS)\n",
    "# ratings – RDD de Rating ou tuple (userID, productID, rating).\n",
    "# rank – Rang de la matrice modèle.\n",
    "# iterations – Nombre d'itérations. (default: 5)\n",
    "# lambda_ – Paramètre de régularisation. (default: 0.01)\n",
    "model = ALS.train(ratingsRDD, rank, iterations=numIterations, lambda_=0.02)\n",
    "\n",
    "# Evaluation du modèle sur le jeu de données complet\n",
    "testdata = ratingsRDD.map(lambda p: (p[0], p[1]))\n",
    "predictions = model.predictAll(testdata).map(lambda r: ((r[0], r[1]), r[2]))\n",
    "ratesAndPreds = ratingsRDD.map(lambda r: ((r[0], r[1]), r[2])).join(predictions)\n",
    "MSE = ratesAndPreds.map(lambda r: (r[1][0] - r[1][1])**2).mean()\n",
    "print(\"Mean Squared Error = \" + str(MSE))"
   ]
  },
  {
   "cell_type": "markdown",
   "metadata": {},
   "source": [
    "#  Algorithmes de descente de gradient\n",
    "\n",
    "Le but de cette section est  \n",
    "1. de calculer le gradient de la fonction,\n",
    "2. d'implémenter une méthode de gradient,\n",
    "3. de mesurer la précision de cette méthode\n",
    "\n",
    "__Question 2__\n",
    "\n",
    "> Séparer le jeu de données en un jeu d'apprentissage (70%) et un jeu de test, en utilisant la fonction randomsplit ( http://spark.apache.org/docs/2.0.0/api/python/pyspark.html )\n",
    "\n",
    "> Compléter la routine ci-dessous qui retourne le \"rating\" prédit. Créer un RDD contenant `(i,j,true rating,predicted rating)`. \n",
    "\n",
    "> Compléter la routine qui calcule le Mean Square Error (MSE) sur le jeu de données.\n",
    "\n",
    "> Tester ensuite la routine de MSE en vous donnant les matrices $P$ et $Q$ aléatoires (utiliser np.random.rand(M,K)) et calculer quelques \"ratings\" prédits. \n",
    "\n"
   ]
  },
  {
   "cell_type": "code",
   "execution_count": 8,
   "metadata": {},
   "outputs": [],
   "source": [
    "# Séparation du jeu de données en un jeu d'apprentissage et un jeu de test\n",
    "# Taille du jeu d'apprentissage (en %) \n",
    "learningWeight = 0.7\n",
    "# Création des RDD \"apprentissage\" et \"test\" depuis la fonction randomsplit\n",
    "trainRDD, testRDD = ratingsRDD.randomSplit([learningWeight, 1-learningWeight], 10)\n",
    "testRatings = testRDD.count()\n",
    "alpha = 0.1\n",
    "lamb = 0.05\n",
    "\n",
    "# Calcul du rating prédit\n",
    "def predictedRating(x, P, Q):\n",
    "    \"\"\" \n",
    "    This function computes predicted rating\n",
    "    Args:\n",
    "        x: tuple (UserID, MovieID, Rating)\n",
    "        P: user's features matrix (M by K)\n",
    "        Q: item's features matrix (N by K)\n",
    "    Returns:\n",
    "        predicted rating:  \n",
    "    \"\"\"  \n",
    "    i = x[0]-1\n",
    "    j = x[1]-1\n",
    "    r = x[2]\n",
    "    rate = np.dot(P[i,:],Q[j,:])\n",
    "    return x[0], x[1],rate \n",
    "    \n",
    "# Calcul de l'erreur MSE \n",
    "def computeMSE(rdd, P, Q):\n",
    "    \"\"\" \n",
    "    This function computes Mean Square Error (MSE)\n",
    "    Args:\n",
    "        rdd: RDD(UserID, MovieID, Rating)\n",
    "    Returns:\n",
    "        mse: mean square error \n",
    "    \"\"\" \n",
    "    predictions = rdd.map(lambda x : predictedRating((x[0], x[1], x[2]), P, Q)).map(lambda r : ((r[0], r[1]), r[2]))\n",
    "    ratesAndPreds = rdd.map(lambda r: ((r[0], r[1]), r[2])).join(predictions)\n",
    "\n",
    "    return ratesAndPreds.map(lambda r: (r[1][0] - r[1][1])**2).mean()"
   ]
  },
  {
   "cell_type": "code",
   "execution_count": 9,
   "metadata": {},
   "outputs": [
    {
     "name": "stdout",
     "output_type": "stream",
     "text": [
      "Size of the training dataset: 700091\n",
      "Size of the testing dataset: 300118\n",
      "Mean Squared Error = 4.201224600357969\n",
      "User ID : 1\tMovie ID : 3408\t\tPredicted rating : 6.468988222330816\n",
      "User ID : 924\tMovie ID : 899\t\tPredicted rating : 5.779861213269656\n",
      "User ID : 1702\tMovie ID : 2355\t\tPredicted rating : 3.865467912803582\n",
      "User ID : 2613\tMovie ID : 2599\t\tPredicted rating : 4.14544743447412\n",
      "User ID : 3507\tMovie ID : 839\t\tPredicted rating : 3.4672254266704456\n",
      "User ID : 4279\tMovie ID : 3264\t\tPredicted rating : 4.645952125051033\n",
      "User ID : 5153\tMovie ID : 3035\t\tPredicted rating : 7.30117816411887\n",
      "User ID : 6040\tMovie ID : 562\t\tPredicted rating : 5.529937772944751\n"
     ]
    }
   ],
   "source": [
    "# Tailles des jeux de données d'apprentissage et de tests.\n",
    "print(\"Size of the training dataset:\", trainRDD.count())\n",
    "print(\"Size of the testing dataset:\", testRDD.count())\n",
    "\n",
    "# Création de matrices aléatoires de dimension (M,K) et (N,K)\n",
    "K = 20 \n",
    "P = np.random.rand(M,K)\n",
    "Q = np.random.rand(N,K)\n",
    "\n",
    "predictions = testRDD.map(lambda x : predictedRating((x[0], x[1], x[2]), P, Q)).map(lambda r : ((r[0], r[1]), r[2]))\n",
    "ratesAndPreds = testRDD.map(lambda r: ((r[0], r[1]), r[2])).join(predictions)\n",
    "\n",
    "# Calcul et affichage de l'erreur MSE pour ces matrices aléatoires\n",
    "MSE = computeMSE(testRDD, P, Q)\n",
    "print(\"Mean Squared Error = \" + str(MSE))\n",
    "\n",
    "# Affichage de quelques ratings prédits depuis ces matrices\n",
    "for i in np.linspace(0, testRatings-1, 8).astype(int):\n",
    "    predict = predictions.collect()[i]\n",
    "    print(\"User ID : {}\\tMovie ID : {}\\t\\tPredicted rating : {}\".format(predict[0][0], predict[0][1], predict[1]))\n"
   ]
  },
  {
   "cell_type": "markdown",
   "metadata": {
    "collapsed": true
   },
   "source": [
    "__Question 3__\n",
    "\n",
    "> Donner la formule des dérivées des fonctions $\\ell_{i,j}$ selon $p_t$ et $q_s$ avec $1\\leq t\\leq m$ et $1\\leq s\\leq n$.\n",
    "\n",
    "Dérivée par rapport à $p_t$ : $$  \\ell_{i,j}'(R,P,Q)=  -2q_{j} *\\left(r_{ij} - q_{j}^{\\top}p_{i}\\right) + 2\\lambda(|| p_{i} ||  $$ \n",
    "\n",
    "\n",
    "Dérivée par rapport à $q_s$ : $$  \\ell_{i,j}'(R,P,Q)=  -2p_{i} *\\left(r_{ij} - q_{j}^{\\top}p_{i}\\right) + 2\\lambda(||  q_{j}||  $$ \n",
    "\n",
    "> Commenter et compléter l'implantation de l'algorithme de gradient sur l'ensemble d'apprentissage. Prendre un pas égal à $\\gamma=0.001$ et arrêter sur un nombre maximum d'itérations. \n",
    "\n",
    "> Commenter les tracés de convergence et des indicateurs de qualité de la prévision en fonction de la dimension latente (rang de $P$ et $Q$)."
   ]
  },
  {
   "cell_type": "code",
   "execution_count": 10,
   "metadata": {},
   "outputs": [],
   "source": [
    "# Algorithem de descente de gradient pour la factorisation de matrices\n",
    "def GD(trainRDD, K=10, MAXITER=50, GAMMA=0.001, LAMBDA=0.05):\n",
    "    # Construction de la matrice R (creuse)\n",
    "    row=[]\n",
    "    col=[]\n",
    "    data=[]\n",
    "    for part in trainRDD.collect():\n",
    "        row.append(part[0]-1)\n",
    "        col.append(part[1]-1)\n",
    "        data.append(part[2])\n",
    "    R=sparse.csr_matrix((data, (row, col)))\n",
    "    \n",
    "    # Initialisation aléatoire des matrices P et Q\n",
    "    M,N = R.shape\n",
    "    P = np.random.rand(M,K)\n",
    "    Q = np.random.rand(N,K)\n",
    "    \n",
    "    # Calcul de l'erreur MSE initiale\n",
    "    mse=[]\n",
    "    mse_tmp = computeMSE(trainRDD, P, Q)\n",
    "    mse.append([0, mse_tmp])\n",
    "    \n",
    "    # Boucle\n",
    "    nonzero = R.nonzero()\n",
    "    nbNonZero = R.nonzero()[0].size\n",
    "    rows, cols = R.shape\n",
    "    I,J = nonzero[0], nonzero[1]\n",
    "    for epoch in range(MAXITER):\n",
    "        \n",
    "        for i,j in zip(I,J):\n",
    "            # Mise à jour de P[i,:] et Q[j,:] par descente de gradient à pas fixe\n",
    "            Iij= R[i,j] - np.vdot(P[i,:],Q[j,:])\n",
    "       \n",
    "            P[i,:] = P[i,:] - GAMMA*(2*LAMBDA*P[i,:] -2*Iij*Q[j,:])\n",
    "            Q[j,:] = Q[j,:] - GAMMA*(2*LAMBDA*Q[j,:] -2*Iij*P[i,:])\n",
    "        # Calcul de l'erreur MSE courante, et sauvegarde dans le tableau mse \n",
    "        mseEp=computeMSE(trainRDD, P, Q)\n",
    "        mse.append([epoch,mseEp])\n",
    "        #affichage du nouveau MSE courant\n",
    "        print(\"epoch: \", str(epoch), \" - MSE: \", str(mseEp))\n",
    "    return P, Q, mse\n"
   ]
  },
  {
   "cell_type": "code",
   "execution_count": 11,
   "metadata": {},
   "outputs": [
    {
     "name": "stdout",
     "output_type": "stream",
     "text": [
      "epoch:  0  - MSE:  1.0350549352841527\n",
      "epoch:  1  - MSE:  0.9016493513791374\n",
      "epoch:  2  - MSE:  0.8647696448885194\n",
      "epoch:  3  - MSE:  0.8463434181754048\n",
      "epoch:  4  - MSE:  0.8352621410481273\n",
      "epoch:  5  - MSE:  0.8278926971815715\n",
      "epoch:  6  - MSE:  0.8226508510298025\n",
      "epoch:  7  - MSE:  0.818729539839099\n",
      "epoch:  8  - MSE:  0.8156744072737663\n",
      "epoch:  9  - MSE:  0.8132107151377985\n"
     ]
    }
   ],
   "source": [
    "# Calcul de P, Q et de la mse\n",
    "P,Q,mse = GD(trainRDD, K=10, MAXITER=10, GAMMA=0.001, LAMBDA=0.05)"
   ]
  },
  {
   "cell_type": "code",
   "execution_count": 19,
   "metadata": {},
   "outputs": [
    {
     "name": "stdout",
     "output_type": "stream",
     "text": [
      "[[0, 2.9176174008967655], [0, 1.0350549352841527], [1, 0.9016493513791374], [2, 0.8647696448885194], [3, 0.8463434181754048], [4, 0.8352621410481273], [5, 0.8278926971815715], [6, 0.8226508510298025], [7, 0.818729539839099], [8, 0.8156744072737663], [9, 0.8132107151377985]]\n"
     ]
    },
    {
     "data": {
      "image/png": "[encoded data removed]",
      "text/plain": [
       "<Figure size 432x288 with 1 Axes>"
      ]
     },
     "metadata": {
      "needs_background": "light"
     },
     "output_type": "display_data"
    }
   ],
   "source": [
    "import matplotlib.pyplot as plt \n",
    "print(mse)\n",
    "# Affichage de l'erreur MSE avec P et Q aléatoires\n",
    "plt.scatter(mse[0][0], mse[0][1], color='r')\n",
    "# Affichage de l'erreur MSE après chaque iteration\n",
    "plt.plot([x[0] for x in mse[1:]], [x[1] for x in mse[1:]])\n",
    "plt.grid()\n",
    "plt.show()"
   ]
  },
  {
   "cell_type": "markdown",
   "metadata": {},
   "source": [
    "On observe une décroissance du MSE au fur et à mesure que le nombre d'itérations augmente. Cette décroissance se réduit au fur et à mesure des itérations. Le MSE pour P et Q aléatoires (point rouge sur la figure) est bien plus important que pour P et Q calculés suite à une itération de la descente de gradient (2.91 contre 1.035).\n",
    "Nous pouvons observation une stagnation (à 0,81) à partir de la 6ème itération, montrant l'atteinte et la convergence d'un minimum global/local de notre fonction convexe à minimiser."
   ]
  },
  {
   "cell_type": "markdown",
   "metadata": {},
   "source": [
    "__Question 4__\n",
    "\n",
    "> Calculer les ratings prédits par la solution de la méthode du gradient dans un RDD\n",
    "\n",
    "> Comparer sur le jeu de test les valeurs prédites aux ratings sur 5 échantillons aléatoires."
   ]
  },
  {
   "cell_type": "code",
   "execution_count": 31,
   "metadata": {},
   "outputs": [
    {
     "name": "stdout",
     "output_type": "stream",
     "text": [
      "User ID : 1\tMovie ID : 1\t\tPredicted rating : 4.253515\t\tReal rating : 5.000000\n",
      "User ID : 15\tMovie ID : 788\t\tPredicted rating : 2.729967\t\tReal rating : 3.000000\n",
      "User ID : 10\tMovie ID : 1042\t\tPredicted rating : 3.849144\t\tReal rating : 5.000000\n",
      "User ID : 2\tMovie ID : 1213\t\tPredicted rating : 4.060701\t\tReal rating : 2.000000\n",
      "User ID : 6040\tMovie ID : 1079\t\tPredicted rating : 3.764212\t\tReal rating : 2.000000\n"
     ]
    }
   ],
   "source": [
    "# Calcul et affichage des ratings prédits\n",
    "predictions = testRDD.map(lambda x : predictedRating((x[0], x[1], x[2]), P, Q)).map(lambda r : ((r[0], r[1]), r[2]))\n",
    "ratesAndPreds = testRDD.map(lambda r: ((r[0], r[1]), r[2])).join(predictions)\n",
    "\n",
    "# Affichage de quelques ratings prédits depuis ces matrices\n",
    "for i in np.linspace(0, testRatings-1, 5).astype(int):\n",
    "    ratesAndPredsTmp = ratesAndPreds.collect()[i]\n",
    "    print(\"User ID : {}\\tMovie ID : {}\\t\\tPredicted rating : {:.6f}\\t\\tReal rating : {:.6f}\".format(ratesAndPredsTmp[0][0], ratesAndPredsTmp[0][1], ratesAndPredsTmp[1][1], ratesAndPredsTmp[1][0]))\n"
   ]
  },
  {
   "cell_type": "markdown",
   "metadata": {},
   "source": []
  }
 ],
 "metadata": {
  "kernelspec": {
   "display_name": "Python 3",
   "language": "python",
   "name": "python3"
  },
  "language_info": {
   "codemirror_mode": {
    "name": "ipython",
    "version": 3
   },
   "file_extension": ".py",
   "mimetype": "text/x-python",
   "name": "python",
   "nbconvert_exporter": "python",
   "pygments_lexer": "ipython3",
   "version": "3.8.2"
  }
 },
 "nbformat": 4,
 "nbformat_minor": 1
}
